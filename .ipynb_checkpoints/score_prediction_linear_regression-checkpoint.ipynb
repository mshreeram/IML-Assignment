{
 "cells": [
  {
   "cell_type": "markdown",
   "id": "314b0bd1",
   "metadata": {},
   "source": [
    "# Predicting scores of students - Linear Regression"
   ]
  },
  {
   "cell_type": "markdown",
   "id": "d7f3e566",
   "metadata": {},
   "source": [
    "## 1. <u>Data Collection </u>"
   ]
  },
  {
   "cell_type": "markdown",
   "id": "a699c37c",
   "metadata": {},
   "source": [
    "### Importing all the necessary libraries...\n",
    "    1. numpy for array functions\n",
    "    2. pandas for reading the data\n",
    "    3. matplotlib for visualising the data\n",
    "    4. sklearn for model, metrics"
   ]
  },
  {
   "cell_type": "code",
   "execution_count": 1,
   "id": "371e353b",
   "metadata": {},
   "outputs": [],
   "source": [
    "import numpy as np\n",
    "import pandas as pd\n",
    "import matplotlib.pyplot as plt\n",
    "import plotly.express as px\n",
    "from sklearn.linear_model import LinearRegression\n",
    "from sklearn.metrics import mean_absolute_error, mean_squared_error, r2_score\n",
    "from sklearn.model_selection import train_test_split"
   ]
  },
  {
   "cell_type": "markdown",
   "id": "a703785e",
   "metadata": {},
   "source": [
    "### Reading the data from the csv file using pandas..."
   ]
  },
  {
   "cell_type": "code",
   "execution_count": 2,
   "id": "d14f3628",
   "metadata": {},
   "outputs": [],
   "source": [
    "df = pd.read_csv('./archive/score_updated.csv')"
   ]
  },
  {
   "cell_type": "markdown",
   "id": "7f9dbf6d",
   "metadata": {},
   "source": [
    "-------------------------------------------------------------------------------------------------------------------\n",
    "\n",
    "## 2. <u> Data Visualising</u>"
   ]
  },
  {
   "cell_type": "markdown",
   "id": "40da0274",
   "metadata": {},
   "source": [
    "### Checking the data briefly...\n",
    "\n",
    "    - The dataset has two columns\n",
    "        1. Number of Hours a student studied (Hours)\n",
    "        2. The Score of that student in the test (Scores)"
   ]
  },
  {
   "cell_type": "code",
   "execution_count": 3,
   "id": "fb28aeab",
   "metadata": {},
   "outputs": [
    {
     "data": {
      "text/html": [
       "<div>\n",
       "<style scoped>\n",
       "    .dataframe tbody tr th:only-of-type {\n",
       "        vertical-align: middle;\n",
       "    }\n",
       "\n",
       "    .dataframe tbody tr th {\n",
       "        vertical-align: top;\n",
       "    }\n",
       "\n",
       "    .dataframe thead th {\n",
       "        text-align: right;\n",
       "    }\n",
       "</style>\n",
       "<table border=\"1\" class=\"dataframe\">\n",
       "  <thead>\n",
       "    <tr style=\"text-align: right;\">\n",
       "      <th></th>\n",
       "      <th>Hours</th>\n",
       "      <th>Scores</th>\n",
       "    </tr>\n",
       "  </thead>\n",
       "  <tbody>\n",
       "    <tr>\n",
       "      <th>0</th>\n",
       "      <td>2.5</td>\n",
       "      <td>21</td>\n",
       "    </tr>\n",
       "    <tr>\n",
       "      <th>1</th>\n",
       "      <td>5.1</td>\n",
       "      <td>47</td>\n",
       "    </tr>\n",
       "    <tr>\n",
       "      <th>2</th>\n",
       "      <td>3.2</td>\n",
       "      <td>27</td>\n",
       "    </tr>\n",
       "    <tr>\n",
       "      <th>3</th>\n",
       "      <td>8.5</td>\n",
       "      <td>75</td>\n",
       "    </tr>\n",
       "    <tr>\n",
       "      <th>4</th>\n",
       "      <td>3.5</td>\n",
       "      <td>30</td>\n",
       "    </tr>\n",
       "  </tbody>\n",
       "</table>\n",
       "</div>"
      ],
      "text/plain": [
       "   Hours  Scores\n",
       "0    2.5      21\n",
       "1    5.1      47\n",
       "2    3.2      27\n",
       "3    8.5      75\n",
       "4    3.5      30"
      ]
     },
     "execution_count": 3,
     "metadata": {},
     "output_type": "execute_result"
    }
   ],
   "source": [
    "df.head()"
   ]
  },
  {
   "cell_type": "markdown",
   "id": "8db2f37d",
   "metadata": {},
   "source": [
    "### Getting the complete Information of the data...\n",
    "\n",
    "    - The dataset has 96 rows in total and 2 columns\n",
    "    - Each row is indicating the number of hours studied and the score obtained for a particular student"
   ]
  },
  {
   "cell_type": "code",
   "execution_count": 4,
   "id": "fbfc56d3",
   "metadata": {},
   "outputs": [
    {
     "data": {
      "text/plain": [
       "<bound method DataFrame.info of     Hours  Scores\n",
       "0     2.5      21\n",
       "1     5.1      47\n",
       "2     3.2      27\n",
       "3     8.5      75\n",
       "4     3.5      30\n",
       "..    ...     ...\n",
       "91    5.8      60\n",
       "92    4.4      44\n",
       "93    6.1      63\n",
       "94    3.7      37\n",
       "95    8.0      84\n",
       "\n",
       "[96 rows x 2 columns]>"
      ]
     },
     "execution_count": 4,
     "metadata": {},
     "output_type": "execute_result"
    }
   ],
   "source": [
    "df.info"
   ]
  },
  {
   "cell_type": "markdown",
   "id": "1fa42415",
   "metadata": {},
   "source": [
    "-------------------------------------------------------------------------------------------------------------------\n",
    "\n",
    "## 3. <u> Data Pre-Processing </u>"
   ]
  },
  {
   "cell_type": "markdown",
   "id": "efb3f170",
   "metadata": {},
   "source": [
    "#### As we are building a Linear Regression model <br>\n",
    "    we need 2 variables to fit in the equation *y = mX + c*, where\n",
    "      X -> independent variable\n",
    "      y -> dependent variable (depends on the value of X)\n",
    "      m -> coefficient\n",
    "      c -> intercept\n",
    "      \n",
    "      \n",
    "    For the above data we can classify \n",
    "    Scores as the dependent variable on Hours (independent variable), so\n",
    "        X -> Hours\n",
    "        y -> Scores"
   ]
  },
  {
   "cell_type": "code",
   "execution_count": 5,
   "id": "ddd3b85e",
   "metadata": {},
   "outputs": [],
   "source": [
    "X = df['Hours']\n",
    "y = df['Scores']"
   ]
  },
  {
   "cell_type": "markdown",
   "id": "fcb043a7",
   "metadata": {},
   "source": [
    "### Using matplotlib, all the datapoints are plotted on a graph\n",
    "    X - representing the Number of hours studied\n",
    "    y - representing the Score in the test"
   ]
  },
  {
   "cell_type": "code",
   "execution_count": 6,
   "id": "7478478a",
   "metadata": {},
   "outputs": [
    {
     "data": {
      "text/plain": [
       "Text(0, 0.5, 'Score')"
      ]
     },
     "execution_count": 6,
     "metadata": {},
     "output_type": "execute_result"
    },
    {
     "data": {
      "image/png": "[encoded data removed]",
      "text/plain": [
       "<Figure size 640x480 with 1 Axes>"
      ]
     },
     "metadata": {},
     "output_type": "display_data"
    }
   ],
   "source": [
    "plt.scatter(X, y)\n",
    "plt.xlabel(\"No. of Hours Studied\")\n",
    "plt.ylabel(\"Score\")"
   ]
  },
  {
   "cell_type": "markdown",
   "id": "40a7d81f",
   "metadata": {},
   "source": [
    "### Splitting the dataset into two using sklearn: \n",
    "    1. Train Data - 70% of the original data\n",
    "    2. Test Data - remaining 30% of the original data"
   ]
  },
  {
   "cell_type": "code",
   "execution_count": 7,
   "id": "b4cba68e",
   "metadata": {},
   "outputs": [],
   "source": [
    "X_train, X_test, y_train, y_test = train_test_split(X, y, test_size = 0.3, random_state = 12)"
   ]
  },
  {
   "cell_type": "code",
   "execution_count": 8,
   "id": "781068d3",
   "metadata": {},
   "outputs": [
    {
     "data": {
      "text/plain": [
       "84    4.0\n",
       "9     2.7\n",
       "29    4.7\n",
       "82    1.0\n",
       "56    8.4\n",
       "     ... \n",
       "3     8.5\n",
       "2     3.2\n",
       "6     9.2\n",
       "27    5.8\n",
       "75    1.2\n",
       "Name: Hours, Length: 67, dtype: float64"
      ]
     },
     "execution_count": 8,
     "metadata": {},
     "output_type": "execute_result"
    }
   ],
   "source": [
    "X_train"
   ]
  },
  {
   "cell_type": "markdown",
   "id": "e7281167",
   "metadata": {},
   "source": [
    "### Converting the Train and Test data to array using numpy:"
   ]
  },
  {
   "cell_type": "code",
   "execution_count": 9,
   "id": "2b34b4ee",
   "metadata": {},
   "outputs": [],
   "source": [
    "X_train = np.array(X_train).reshape(-1, 1)\n",
    "X_test = np.array(X_test).reshape(-1, 1)"
   ]
  },
  {
   "cell_type": "markdown",
   "id": "d5b758c6",
   "metadata": {},
   "source": [
    "-------------------------------------------------------------------------------------------------------------------\n",
    "\n",
    "## 4. <u> Model Building </u>"
   ]
  },
  {
   "cell_type": "markdown",
   "id": "9ebec680",
   "metadata": {},
   "source": [
    "### Creating the LinearRegression Object to apply on the Test data:"
   ]
  },
  {
   "cell_type": "code",
   "execution_count": 10,
   "id": "9244d26a",
   "metadata": {},
   "outputs": [],
   "source": [
    "lr = LinearRegression()"
   ]
  },
  {
   "cell_type": "markdown",
   "id": "2d9befc4",
   "metadata": {},
   "source": [
    "### Fitting the Training data to the LinearRegression:"
   ]
  },
  {
   "cell_type": "code",
   "execution_count": 11,
   "id": "b028fec6",
   "metadata": {},
   "outputs": [
    {
     "data": {
      "text/html": [
       "<style>#sk-container-id-1 {color: black;}#sk-container-id-1 pre{padding: 0;}#sk-container-id-1 div.sk-toggleable {background-color: white;}#sk-container-id-1 label.sk-toggleable__label {cursor: pointer;display: block;width: 100%;margin-bottom: 0;padding: 0.3em;box-sizing: border-box;text-align: center;}#sk-container-id-1 label.sk-toggleable__label-arrow:before {content: \"▸\";float: left;margin-right: 0.25em;color: #696969;}#sk-container-id-1 label.sk-toggleable__label-arrow:hover:before {color: black;}#sk-container-id-1 div.sk-estimator:hover label.sk-toggleable__label-arrow:before {color: black;}#sk-container-id-1 div.sk-toggleable__content {max-height: 0;max-width: 0;overflow: hidden;text-align: left;background-color: #f0f8ff;}#sk-container-id-1 div.sk-toggleable__content pre {margin: 0.2em;color: black;border-radius: 0.25em;background-color: #f0f8ff;}#sk-container-id-1 input.sk-toggleable__control:checked~div.sk-toggleable__content {max-height: 200px;max-width: 100%;overflow: auto;}#sk-container-id-1 input.sk-toggleable__control:checked~label.sk-toggleable__label-arrow:before {content: \"▾\";}#sk-container-id-1 div.sk-estimator input.sk-toggleable__control:checked~label.sk-toggleable__label {background-color: #d4ebff;}#sk-container-id-1 div.sk-label input.sk-toggleable__control:checked~label.sk-toggleable__label {background-color: #d4ebff;}#sk-container-id-1 input.sk-hidden--visually {border: 0;clip: rect(1px 1px 1px 1px);clip: rect(1px, 1px, 1px, 1px);height: 1px;margin: -1px;overflow: hidden;padding: 0;position: absolute;width: 1px;}#sk-container-id-1 div.sk-estimator {font-family: monospace;background-color: #f0f8ff;border: 1px dotted black;border-radius: 0.25em;box-sizing: border-box;margin-bottom: 0.5em;}#sk-container-id-1 div.sk-estimator:hover {background-color: #d4ebff;}#sk-container-id-1 div.sk-parallel-item::after {content: \"\";width: 100%;border-bottom: 1px solid gray;flex-grow: 1;}#sk-container-id-1 div.sk-label:hover label.sk-toggleable__label {background-color: #d4ebff;}#sk-container-id-1 div.sk-serial::before {content: \"\";position: absolute;border-left: 1px solid gray;box-sizing: border-box;top: 0;bottom: 0;left: 50%;z-index: 0;}#sk-container-id-1 div.sk-serial {display: flex;flex-direction: column;align-items: center;background-color: white;padding-right: 0.2em;padding-left: 0.2em;position: relative;}#sk-container-id-1 div.sk-item {position: relative;z-index: 1;}#sk-container-id-1 div.sk-parallel {display: flex;align-items: stretch;justify-content: center;background-color: white;position: relative;}#sk-container-id-1 div.sk-item::before, #sk-container-id-1 div.sk-parallel-item::before {content: \"\";position: absolute;border-left: 1px solid gray;box-sizing: border-box;top: 0;bottom: 0;left: 50%;z-index: -1;}#sk-container-id-1 div.sk-parallel-item {display: flex;flex-direction: column;z-index: 1;position: relative;background-color: white;}#sk-container-id-1 div.sk-parallel-item:first-child::after {align-self: flex-end;width: 50%;}#sk-container-id-1 div.sk-parallel-item:last-child::after {align-self: flex-start;width: 50%;}#sk-container-id-1 div.sk-parallel-item:only-child::after {width: 0;}#sk-container-id-1 div.sk-dashed-wrapped {border: 1px dashed gray;margin: 0 0.4em 0.5em 0.4em;box-sizing: border-box;padding-bottom: 0.4em;background-color: white;}#sk-container-id-1 div.sk-label label {font-family: monospace;font-weight: bold;display: inline-block;line-height: 1.2em;}#sk-container-id-1 div.sk-label-container {text-align: center;}#sk-container-id-1 div.sk-container {/* jupyter's `normalize.less` sets `[hidden] { display: none; }` but bootstrap.min.css set `[hidden] { display: none !important; }` so we also need the `!important` here to be able to override the default hidden behavior on the sphinx rendered scikit-learn.org. See: https://github.com/scikit-learn/scikit-learn/issues/21755 */display: inline-block !important;position: relative;}#sk-container-id-1 div.sk-text-repr-fallback {display: none;}</style><div id=\"sk-container-id-1\" class=\"sk-top-container\"><div class=\"sk-text-repr-fallback\"><pre>LinearRegression()</pre><b>In a Jupyter environment, please rerun this cell to show the HTML representation or trust the notebook. <br />On GitHub, the HTML representation is unable to render, please try loading this page with nbviewer.org.</b></div><div class=\"sk-container\" hidden><div class=\"sk-item\"><div class=\"sk-estimator sk-toggleable\"><input class=\"sk-toggleable__control sk-hidden--visually\" id=\"sk-estimator-id-1\" type=\"checkbox\" checked><label for=\"sk-estimator-id-1\" class=\"sk-toggleable__label sk-toggleable__label-arrow\">LinearRegression</label><div class=\"sk-toggleable__content\"><pre>LinearRegression()</pre></div></div></div></div></div>"
      ],
      "text/plain": [
       "LinearRegression()"
      ]
     },
     "execution_count": 11,
     "metadata": {},
     "output_type": "execute_result"
    }
   ],
   "source": [
    "lr.fit(X_train, y_train)"
   ]
  },
  {
   "cell_type": "markdown",
   "id": "cfb78de0",
   "metadata": {},
   "source": [
    "### Checking the intercept(c) and slope(m) of the LinearRegression Line"
   ]
  },
  {
   "cell_type": "code",
   "execution_count": 12,
   "id": "911ec727",
   "metadata": {},
   "outputs": [
    {
     "data": {
      "text/plain": [
       "1.1142325426447925"
      ]
     },
     "execution_count": 12,
     "metadata": {},
     "output_type": "execute_result"
    }
   ],
   "source": [
    "c = lr.intercept_\n",
    "c"
   ]
  },
  {
   "cell_type": "code",
   "execution_count": 13,
   "id": "64e1cadc",
   "metadata": {},
   "outputs": [
    {
     "data": {
      "text/plain": [
       "array([10.07942614])"
      ]
     },
     "execution_count": 13,
     "metadata": {},
     "output_type": "execute_result"
    }
   ],
   "source": [
    "m = lr.coef_\n",
    "m"
   ]
  },
  {
   "cell_type": "markdown",
   "id": "45226d56",
   "metadata": {},
   "source": [
    "### Predicting the y (Scores) values for the training data:"
   ]
  },
  {
   "cell_type": "code",
   "execution_count": 14,
   "id": "9088671a",
   "metadata": {},
   "outputs": [
    {
     "data": {
      "text/plain": [
       "array([41.4319371 , 28.32868312, 48.4875354 , 11.19365868, 85.78141211,\n",
       "       72.67815813, 27.3207405 , 28.32868312, 78.72581381, 24.29691266,\n",
       "       45.46370755, 59.57490415, 99.8926087 , 69.65433029, 68.64638767,\n",
       "       18.24925698, 80.74169904, 31.35251096, 37.40016664, 60.58284676,\n",
       "       64.61461722, 74.69404336, 38.40810926, 52.51930585, 47.47959278,\n",
       "       83.76552688, 36.39222403, 31.35251096, 25.30485528, 73.68610074,\n",
       "       90.82112518, 79.73375643, 66.63050245, 43.44782233, 65.62255983,\n",
       "       38.40810926, 63.6066746 , 88.80523995, 42.43987971, 62.59873199,\n",
       "       29.33662573, 62.59873199, 22.28102743, 17.24131436, 82.75758427,\n",
       "       57.55901892, 35.38428142, 23.28897005, 61.59078938, 71.67021552,\n",
       "       26.31279789, 30.34456835, 81.74964165, 40.42399448, 34.3763388 ,\n",
       "       16.23337175, 67.63844506, 58.56696153, 39.41605187, 14.21748652,\n",
       "       98.88466609, 97.87672348, 86.78935472, 33.36839619, 93.84495302,\n",
       "       59.57490415, 13.20954391])"
      ]
     },
     "execution_count": 14,
     "metadata": {},
     "output_type": "execute_result"
    }
   ],
   "source": [
    "y_pred_train = lr.predict(X_train)\n",
    "y_pred_train"
   ]
  },
  {
   "cell_type": "markdown",
   "id": "941e928a",
   "metadata": {},
   "source": [
    "### Plotting the original training data values and predicted training values:\n",
    "    To check if the model performed well or not.\n",
    "        - The red line is linear regression line and the blue dots are the original data points"
   ]
  },
  {
   "cell_type": "code",
   "execution_count": 15,
   "id": "29485a91",
   "metadata": {},
   "outputs": [
    {
     "data": {
      "text/plain": [
       "Text(0, 0.5, 'Score')"
      ]
     },
     "execution_count": 15,
     "metadata": {},
     "output_type": "execute_result"
    },
    {
     "data": {
      "image/png": "[encoded data removed]",
      "text/plain": [
       "<Figure size 640x480 with 1 Axes>"
      ]
     },
     "metadata": {},
     "output_type": "display_data"
    }
   ],
   "source": [
    "plt.scatter(X_train, y_train)\n",
    "plt.plot(X_train, y_pred_train, color = 'red')\n",
    "plt.xlabel(\"No. of Hours Studied\")\n",
    "plt.ylabel(\"Score\")"
   ]
  },
  {
   "cell_type": "markdown",
   "id": "b7e0e045",
   "metadata": {},
   "source": [
    "-------------------------------------------------------------------------------------------------------------------\n",
    "\n",
    "## 5. <u> Testing the Model </u>"
   ]
  },
  {
   "cell_type": "markdown",
   "id": "632b7d76",
   "metadata": {},
   "source": [
    "### Testing the model against the previously taken aside 30% test data (which the model has'nt seen even once)"
   ]
  },
  {
   "cell_type": "code",
   "execution_count": 16,
   "id": "974fe3e7",
   "metadata": {},
   "outputs": [
    {
     "data": {
      "text/plain": [
       "array([54.53519108, 84.7734695 , 12.2016013 , 56.55107631, 20.26514221,\n",
       "       15.22542914, 51.51136324, 77.7178712 , 19.25719959, 46.47165017,\n",
       "       26.31279789, 94.85289563, 21.27308482, 53.52724847, 69.65433029,\n",
       "       91.82906779, 32.36045357, 55.54313369, 45.46370755, 70.6622729 ,\n",
       "       95.86083825, 76.70992858, 50.50342062, 44.45576494, 96.86878086,\n",
       "       87.79729734, 81.74964165, 49.49547801, 75.70198597])"
      ]
     },
     "execution_count": 16,
     "metadata": {},
     "output_type": "execute_result"
    }
   ],
   "source": [
    "y_pred_test = lr.predict(X_test)\n",
    "y_pred_test"
   ]
  },
  {
   "cell_type": "markdown",
   "id": "1634ad0a",
   "metadata": {},
   "source": [
    "### Plotting the original test data and predicted values for the test data to visually get an idea of the model performance"
   ]
  },
  {
   "cell_type": "code",
   "execution_count": 17,
   "id": "de202378",
   "metadata": {},
   "outputs": [
    {
     "data": {
      "text/plain": [
       "Text(0, 0.5, 'Score')"
      ]
     },
     "execution_count": 17,
     "metadata": {},
     "output_type": "execute_result"
    },
    {
     "data": {
      "image/png": "[encoded data removed]",
      "text/plain": [
       "<Figure size 640x480 with 1 Axes>"
      ]
     },
     "metadata": {},
     "output_type": "display_data"
    }
   ],
   "source": [
    "plt.scatter(X_test, y_test)\n",
    "plt.plot(X_test, y_pred_test, color = 'red')\n",
    "plt.xlabel(\"No. of Hours Studied\")\n",
    "plt.ylabel(\"Score\")"
   ]
  },
  {
   "cell_type": "markdown",
   "id": "f9952d8c",
   "metadata": {},
   "source": [
    "    From the above graph we could see that the blue dots are the original data points\n",
    "    and the red line is the predicted values by our model\n",
    "    \n",
    "    - we could say that the model is almost accurate in predicting the values for the test data which it hasn't seen ever before"
   ]
  },
  {
   "cell_type": "markdown",
   "id": "52f15d90",
   "metadata": {},
   "source": [
    "### Plotting a bar chart to visualise the difference b/w the original and predicted data even more specifically"
   ]
  },
  {
   "cell_type": "code",
   "execution_count": 18,
   "id": "c71547af",
   "metadata": {},
   "outputs": [
    {
     "data": {
      "text/html": [
       "<div>\n",
       "<style scoped>\n",
       "    .dataframe tbody tr th:only-of-type {\n",
       "        vertical-align: middle;\n",
       "    }\n",
       "\n",
       "    .dataframe tbody tr th {\n",
       "        vertical-align: top;\n",
       "    }\n",
       "\n",
       "    .dataframe thead th {\n",
       "        text-align: right;\n",
       "    }\n",
       "</style>\n",
       "<table border=\"1\" class=\"dataframe\">\n",
       "  <thead>\n",
       "    <tr style=\"text-align: right;\">\n",
       "      <th></th>\n",
       "      <th>Actual</th>\n",
       "      <th>Predicted</th>\n",
       "    </tr>\n",
       "  </thead>\n",
       "  <tbody>\n",
       "    <tr>\n",
       "      <th>38</th>\n",
       "      <td>56</td>\n",
       "      <td>54.535191</td>\n",
       "    </tr>\n",
       "    <tr>\n",
       "      <th>8</th>\n",
       "      <td>81</td>\n",
       "      <td>84.773469</td>\n",
       "    </tr>\n",
       "    <tr>\n",
       "      <th>14</th>\n",
       "      <td>17</td>\n",
       "      <td>12.201601</td>\n",
       "    </tr>\n",
       "    <tr>\n",
       "      <th>7</th>\n",
       "      <td>60</td>\n",
       "      <td>56.551076</td>\n",
       "    </tr>\n",
       "    <tr>\n",
       "      <th>17</th>\n",
       "      <td>24</td>\n",
       "      <td>20.265142</td>\n",
       "    </tr>\n",
       "    <tr>\n",
       "      <th>66</th>\n",
       "      <td>15</td>\n",
       "      <td>15.225429</td>\n",
       "    </tr>\n",
       "    <tr>\n",
       "      <th>85</th>\n",
       "      <td>52</td>\n",
       "      <td>51.511363</td>\n",
       "    </tr>\n",
       "    <tr>\n",
       "      <th>60</th>\n",
       "      <td>78</td>\n",
       "      <td>77.717871</td>\n",
       "    </tr>\n",
       "    <tr>\n",
       "      <th>40</th>\n",
       "      <td>21</td>\n",
       "      <td>19.257200</td>\n",
       "    </tr>\n",
       "    <tr>\n",
       "      <th>12</th>\n",
       "      <td>41</td>\n",
       "      <td>46.471650</td>\n",
       "    </tr>\n",
       "    <tr>\n",
       "      <th>16</th>\n",
       "      <td>30</td>\n",
       "      <td>26.312798</td>\n",
       "    </tr>\n",
       "    <tr>\n",
       "      <th>61</th>\n",
       "      <td>94</td>\n",
       "      <td>94.852896</td>\n",
       "    </tr>\n",
       "    <tr>\n",
       "      <th>87</th>\n",
       "      <td>18</td>\n",
       "      <td>21.273085</td>\n",
       "    </tr>\n",
       "    <tr>\n",
       "      <th>58</th>\n",
       "      <td>53</td>\n",
       "      <td>53.527248</td>\n",
       "    </tr>\n",
       "    <tr>\n",
       "      <th>86</th>\n",
       "      <td>67</td>\n",
       "      <td>69.654330</td>\n",
       "    </tr>\n",
       "    <tr>\n",
       "      <th>31</th>\n",
       "      <td>92</td>\n",
       "      <td>91.829068</td>\n",
       "    </tr>\n",
       "    <tr>\n",
       "      <th>47</th>\n",
       "      <td>28</td>\n",
       "      <td>32.360454</td>\n",
       "    </tr>\n",
       "    <tr>\n",
       "      <th>64</th>\n",
       "      <td>55</td>\n",
       "      <td>55.543134</td>\n",
       "    </tr>\n",
       "    <tr>\n",
       "      <th>39</th>\n",
       "      <td>45</td>\n",
       "      <td>45.463708</td>\n",
       "    </tr>\n",
       "    <tr>\n",
       "      <th>23</th>\n",
       "      <td>76</td>\n",
       "      <td>70.662273</td>\n",
       "    </tr>\n",
       "    <tr>\n",
       "      <th>41</th>\n",
       "      <td>93</td>\n",
       "      <td>95.860838</td>\n",
       "    </tr>\n",
       "    <tr>\n",
       "      <th>69</th>\n",
       "      <td>70</td>\n",
       "      <td>76.709929</td>\n",
       "    </tr>\n",
       "    <tr>\n",
       "      <th>77</th>\n",
       "      <td>51</td>\n",
       "      <td>50.503421</td>\n",
       "    </tr>\n",
       "    <tr>\n",
       "      <th>70</th>\n",
       "      <td>43</td>\n",
       "      <td>44.455765</td>\n",
       "    </tr>\n",
       "    <tr>\n",
       "      <th>26</th>\n",
       "      <td>90</td>\n",
       "      <td>96.868781</td>\n",
       "    </tr>\n",
       "    <tr>\n",
       "      <th>79</th>\n",
       "      <td>89</td>\n",
       "      <td>87.797297</td>\n",
       "    </tr>\n",
       "    <tr>\n",
       "      <th>46</th>\n",
       "      <td>79</td>\n",
       "      <td>81.749642</td>\n",
       "    </tr>\n",
       "    <tr>\n",
       "      <th>21</th>\n",
       "      <td>54</td>\n",
       "      <td>49.495478</td>\n",
       "    </tr>\n",
       "    <tr>\n",
       "      <th>19</th>\n",
       "      <td>69</td>\n",
       "      <td>75.701986</td>\n",
       "    </tr>\n",
       "  </tbody>\n",
       "</table>\n",
       "</div>"
      ],
      "text/plain": [
       "    Actual  Predicted\n",
       "38      56  54.535191\n",
       "8       81  84.773469\n",
       "14      17  12.201601\n",
       "7       60  56.551076\n",
       "17      24  20.265142\n",
       "66      15  15.225429\n",
       "85      52  51.511363\n",
       "60      78  77.717871\n",
       "40      21  19.257200\n",
       "12      41  46.471650\n",
       "16      30  26.312798\n",
       "61      94  94.852896\n",
       "87      18  21.273085\n",
       "58      53  53.527248\n",
       "86      67  69.654330\n",
       "31      92  91.829068\n",
       "47      28  32.360454\n",
       "64      55  55.543134\n",
       "39      45  45.463708\n",
       "23      76  70.662273\n",
       "41      93  95.860838\n",
       "69      70  76.709929\n",
       "77      51  50.503421\n",
       "70      43  44.455765\n",
       "26      90  96.868781\n",
       "79      89  87.797297\n",
       "46      79  81.749642\n",
       "21      54  49.495478\n",
       "19      69  75.701986"
      ]
     },
     "execution_count": 18,
     "metadata": {},
     "output_type": "execute_result"
    }
   ],
   "source": [
    "df2 = pd.DataFrame({'Actual': y_test, 'Predicted': y_pred_test})\n",
    "df2"
   ]
  },
  {
   "cell_type": "code",
   "execution_count": 19,
   "id": "c18afa2d",
   "metadata": {},
   "outputs": [
    {
     "data": {
      "text/plain": [
       "<Axes: >"
      ]
     },
     "execution_count": 19,
     "metadata": {},
     "output_type": "execute_result"
    },
    {
     "data": {
      "image/png": "[encoded data removed]",
      "text/plain": [
       "<Figure size 640x480 with 1 Axes>"
      ]
     },
     "metadata": {},
     "output_type": "display_data"
    }
   ],
   "source": [
    "df2.plot(kind='bar')"
   ]
  },
  {
   "cell_type": "markdown",
   "id": "16a94783",
   "metadata": {},
   "source": [
    "    By analysing the above bar chart we can say that the difference between Actual and predicted values is less"
   ]
  },
  {
   "cell_type": "markdown",
   "id": "62c728b0",
   "metadata": {},
   "source": [
    "-------------------------------------------------------------------------------------------------------------------\n",
    "\n",
    "## 6. <u> Analysing the model performance using sklearn </u>"
   ]
  },
  {
   "cell_type": "code",
   "execution_count": 20,
   "id": "e620cfe6",
   "metadata": {},
   "outputs": [
    {
     "name": "stdout",
     "output_type": "stream",
     "text": [
      "Accuracy :  100.0\n",
      "MAE      :  2.79\n",
      "MSE      :  12.27\n",
      "RMSE     :  3.5\n"
     ]
    }
   ],
   "source": [
    "acc = lr.score(X_test, y_pred_test)\n",
    "print(\"Accuracy : \", round(acc * 100, 2))\n",
    "print(\"MAE      : \", round(mean_absolute_error(y_test, y_pred_test), 2))\n",
    "print(\"MSE      : \", round(mean_squared_error(y_test, y_pred_test), 2))\n",
    "print(\"RMSE     : \", round(np.sqrt(mean_squared_error(y_test, y_pred_test)), 2))"
   ]
  },
  {
   "cell_type": "markdown",
   "id": "1812daf2",
   "metadata": {},
   "source": [
    "    - The accuracy of the model is 100 which is not very ideal, generally 100 represents overfitting the data\n",
    "        (in case of outliers the model performs way less efficiently) \n",
    "        (acc: 100 may be a consequence of the small dataset size or an artifically created dataset)\n",
    "     \n",
    "    - Mean Absolute Error (MAE) = 2.79 represents that the original values might be deviated 2.79 units from the predicted values on average\n",
    "    \n",
    "    - Mean Square Error (MSE) weights the error in outliers to a higher value because the errors are squared\n",
    "    \n",
    "    - Root Mean Square Error (RMSE) weights the error in outliers to a higher value because the errors are squared but the units of the error and original data will be same"
   ]
  },
  {
   "cell_type": "markdown",
   "id": "42cba385",
   "metadata": {},
   "source": [
    "-------------------------------------------------------------------------------------------------------------------\n",
    "\n",
    "## ChatGPT 3.5 prompts:\n",
    "\n",
    "### prompt:  \n",
    "\n",
    "    acc = model.score(X_test, y_test)\n",
    "    print(\"Accuracy: \", round(acc*100, 2))\n",
    "    print(\"MAE:      \",round(mean_absolute_error(y_test,y_pred), 2))\n",
    "    print(\"MSE:      \",round(mean_squared_error(y_test,y_pred), 2))\n",
    "    print(\"RMSE:     \",round(np.sqrt(mean_squared_error(y_test,y_pred)), 2))\n",
    "    print(\"R2 score: \", round(r2_score(y_test,y_pred), 2))\n",
    "\n",
    "\n",
    "    Accuracy :  100.0\n",
    "    MAE      :  2.79\n",
    "    MSE      :  12.27\n",
    "    RMSE     :  3.5\n",
    "    R2 score :  0.98\n",
    "\n",
    "    these are the metrics what can be said about the model\n",
    "\n",
    "\n",
    "   \n",
    "    \n",
    "### response:\n",
    "        \n",
    "##### Based on the provided metrics:\n",
    "\n",
    "1. **Accuracy**: The model has achieved 100% accuracy on the test set. This suggests that the model is performing perfectly in terms of classification accuracy, although achieving 100% accuracy can sometimes indicate overfitting, especially if the dataset is small or if there are other issues like data leakage.\n",
    "\n",
    "2. **MAE (Mean Absolute Error)**: The MAE of 2.79 indicates that, on average, the model's predictions are off by approximately 2.79 units from the actual values. This is a measure of the average magnitude of errors in the predictions.\n",
    "\n",
    "3. **MSE (Mean Squared Error)**: The MSE of 12.27 indicates the average of the squares of the errors, providing a measure of the overall variance of the residuals. It's larger than the MAE because MSE squares the errors, giving more weight to larger errors.\n",
    "\n",
    "4. **RMSE (Root Mean Squared Error)**: The RMSE of 3.5 is the square root of the MSE, providing a measure of the average magnitude of error in the predicted values. It's in the same unit as the target variable, making it easier to interpret.\n",
    "\n",
    "5. **R2 Score (Coefficient of Determination)**: The R2 score of 0.98 indicates that approximately 98% of the variance in the dependent variable (y) can be explained by the independent variables (X) in the model. This is a measure of how well the independent variables explain the variability of the dependent variable.\n",
    "\n",
    "Overall, based on these metrics, the model appears to perform exceptionally well, with high accuracy, low error metrics (MAE, MSE, RMSE), and a high R2 score, suggesting that it explains a significant portion of the variance in the data. However, it's essential to consider other factors like the specific context of the problem, the dataset used, potential biases, and the model's generalization capability before drawing final conclusions about its performance."
   ]
  },
  {
   "cell_type": "markdown",
   "id": "d900e46b",
   "metadata": {},
   "source": [
    "[GitHub Repo Link - mshreeram](https://github.com/mshreeram)"
   ]
  }
 ],
 "metadata": {
  "kernelspec": {
   "display_name": "Python 3 (ipykernel)",
   "language": "python",
   "name": "python3"
  },
  "language_info": {
   "codemirror_mode": {
    "name": "ipython",
    "version": 3
   },
   "file_extension": ".py",
   "mimetype": "text/x-python",
   "name": "python",
   "nbconvert_exporter": "python",
   "pygments_lexer": "ipython3",
   "version": "3.11.5"
  }
 },
 "nbformat": 4,
 "nbformat_minor": 5
}
